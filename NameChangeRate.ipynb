{
 "cells": [
  {
   "cell_type": "code",
   "execution_count": null,
   "metadata": {
    "collapsed": true
   },
   "outputs": [],
   "source": [
    "import pandas as pd\n",
    "import us\n",
    "\n",
    "# load the two two name data sets and then combine them into one\n",
    "names1 = pd.read_csv('data/stateNames1.csv')\n",
    "names2 = pd.read_csv('data/stateNames2.csv')\n",
    "\n",
    "df = pd.concat([names1, names2])    "
   ]
  },
  {
   "cell_type": "markdown",
   "metadata": {},
   "source": [
    "We want to look at the change in the names, so we need to iterate over all of the years.  For each year we want to get a name and the count for the name, and then look at the name and count in the previous year to make the calulation."
   ]
  },
  {
   "cell_type": "code",
   "execution_count": null,
   "metadata": {
    "collapsed": false
   },
   "outputs": [],
   "source": [
    "rate_changes = []\n",
    "\n",
    "# start the year +1 from the dataset because we want to look at the change but can't for the first year\n",
    "for year in list(range(1911, 1953)):\n",
    "    for state in us.states.STATES:\n",
    "        names = df[(df.Year == year) & (df.State == state.abbr)]\n",
    "        for i, row in names.iterrows():\n",
    "            name = row['Name']\n",
    "            count = row['Count']\n",
    "            gender = row['Gender']\n",
    "            prev = df[(df.Year == (year - 1)) & (df.Name == name) & (df.State == state.abbr) & (df.Gender == gender)]\n",
    "            change = 'NA'\n",
    "            if len(prev) > 0:\n",
    "                prev_count = prev['Count']\n",
    "                change = count - prev_count\n",
    "            rate_changes.append(change)\n",
    "\n",
    "df['change'] = rate_changes\n",
    "\n",
    "df.to_csv('output/StateNameChange.csv')"
   ]
  }
 ],
 "metadata": {
  "kernelspec": {
   "display_name": "Python 3",
   "language": "python",
   "name": "python3"
  },
  "language_info": {
   "codemirror_mode": {
    "name": "ipython",
    "version": 3
   },
   "file_extension": ".py",
   "mimetype": "text/x-python",
   "name": "python",
   "nbconvert_exporter": "python",
   "pygments_lexer": "ipython3",
   "version": "3.4.3"
  }
 },
 "nbformat": 4,
 "nbformat_minor": 0
}
