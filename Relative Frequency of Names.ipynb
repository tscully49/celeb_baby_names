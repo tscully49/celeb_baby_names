{
 "cells": [
  {
   "cell_type": "markdown",
   "metadata": {},
   "source": [
    "# Relative Name Frequency\n",
    "To get the relative frequency of the names, and account for the population, we must iterate over the collection of names by year and by state and keep track of the total number of names for that state.\n",
    "\n",
    "To assist us in the controlling for population at the state level we use the `us` python package.  For information about this package view https://pypi.python.org/pypi/us\n",
    "\n",
    "To install the package to the server use `pip install --user us` through SSH."
   ]
  },
  {
   "cell_type": "code",
   "execution_count": null,
   "metadata": {
    "collapsed": true
   },
   "outputs": [],
   "source": [
    "import pandas as pd\n",
    "import us\n",
    "\n",
    "names1 = pd.read_csv('data/stateNames1.csv')\n",
    "names2 = pd.read_csv('data/stateNames2.csv')\n",
    "df = pd.concat([names1, names2])\n",
    "\n",
    "for year in range(1910,1954):\n",
    "    for state in us.states.STATES:\n",
    "        rel_freq = 0\n",
    "        names = df[(df.Year == year) & (df.State == state.abbr)]\n",
    "        for i, name in names.iterrows():\n",
    "            rel_freq += int(name['Count'])\n",
    "        for i, name in names.iterrows():\n",
    "            name['rel_freq'] = int(name['Count']) / rel_freq\n",
    "\n",
    "df.to_csv('output/relFreqNames.csv')\n",
    "\n",
    "print('see output file')"
   ]
  },
  {
   "cell_type": "code",
   "execution_count": null,
   "metadata": {
    "collapsed": true
   },
   "outputs": [],
   "source": [
    "import pandas as pd\n",
    "\n",
    "df = pd.read_csv('data/NationalNames.csv')\n",
    "\n",
    "for year in range(1880, 1989):\n",
    "    print(\"Status: \" + str(year))\n",
    "    rel_freq = 0\n",
    "    names = df[(df.Year == year)]\n",
    "    for i, name in names.iterrows():\n",
    "        rel_freq += int(name['Count'])\n",
    "    for i, name in names.iterrows():\n",
    "        name['rel_freq'] = int(name['Count']) / rel_freq\n",
    "\n",
    "df.to_csv('output/relFreqNationalNames.csv')"
   ]
  }
 ],
 "metadata": {
  "kernelspec": {
   "display_name": "Python 3",
   "language": "python",
   "name": "python3"
  },
  "language_info": {
   "codemirror_mode": {
    "name": "ipython",
    "version": 3
   },
   "file_extension": ".py",
   "mimetype": "text/x-python",
   "name": "python",
   "nbconvert_exporter": "python",
   "pygments_lexer": "ipython3",
   "version": "3.4.3"
  }
 },
 "nbformat": 4,
 "nbformat_minor": 0
}
