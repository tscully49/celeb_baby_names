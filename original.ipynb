{
 "cells": [
  {
   "cell_type": "code",
   "execution_count": 1,
   "metadata": {
    "collapsed": true
   },
   "outputs": [],
   "source": [
    "%matplotlib inline"
   ]
  },
  {
   "cell_type": "code",
   "execution_count": 3,
   "metadata": {
    "collapsed": false
   },
   "outputs": [
    {
     "name": "stdout",
     "output_type": "stream",
     "text": [
      "NationalNames.csv   NationalReadMe.pdf  StateReadMe.pdf     hashes.txt          presApproval.csv    stateNames1.csv     stateNames2.csv\r\n"
     ]
    }
   ],
   "source": [
    "ls ../input"
   ]
  },
  {
   "cell_type": "code",
   "execution_count": 4,
   "metadata": {
    "collapsed": false
   },
   "outputs": [
    {
     "name": "stdout",
     "output_type": "stream",
     "text": [
      "cat: ../input/StateNames1.csv: No such file or directory\r\n"
     ]
    }
   ],
   "source": [
    "cat ../input/StateNames.csv | head "
   ]
  },
  {
   "cell_type": "code",
   "execution_count": null,
   "metadata": {
    "collapsed": false
   },
   "outputs": [],
   "source": [
    "import pandas as pd\n",
    "\n",
    "pres =  {'Name' : ['Barack','George','Bill','George','Ronald','Jimmy','Gerald','Richard','Lyndon','John','Dwight','Harry','Franklin','Herbert','Calvin','Warren','Woodrow'],\n",
    "         'StartYear' : [2009,2001,1993,1989,1981,1977,1974,1969,1963,1961,1953,1945,1933,1929,1923,1921,1913],\n",
    "         'EndYear' : [2015,2009,2001,1993,1989,1981,1977,1974,1969,1963,1961,1953,1945,1933,1929,1923,1921]\n",
    "}\n",
    "\n",
    "df = pd.DataFrame(pres)"
   ]
  },
  {
   "cell_type": "code",
   "execution_count": null,
   "metadata": {
    "collapsed": false
   },
   "outputs": [],
   "source": [
    "import pandas as pd\n",
    "\n",
    "pres =  {'Name' : ['Mitt','Albert','Robert','Michael','Walter','Jimmy','Gerald','George','Hubert','Barry','Richard','Adlai','Thomas','Wendell','Alfred','Herbert','John','James','Charles'],\n",
    "         'StartYear' : [2010,1998,1994,1986,1982,1978,1974,1970,1966,1962,1958,1950,1942,1938,1926,1930,1922,1918,1914],\n",
    "         'EndYear' : [2014,2002,1998,1990,1986,1982,1978,1974,1970,1966,1962,1958,1950,1942,1938,1934,1926,1922,1918]\n",
    "}\n",
    "\n",
    "df_losing = pd.DataFrame(pres)"
   ]
  },
  {
   "cell_type": "code",
   "execution_count": null,
   "metadata": {
    "collapsed": false
   },
   "outputs": [],
   "source": [
    "# Find out and Plot names with highest popularity when the current President with same name is in the Office :\n",
    "\n",
    "import operator\n",
    "import math\n",
    "import pandas as pd\n",
    "import csv\n",
    "%matplotlib inline\n",
    "\n",
    "def popularity(selectname):\n",
    "    #return the year in which name is most popular\n",
    "    sumname={}\n",
    "    f = open(\"../input/StateNames.csv\")\n",
    "    allStates = csv.reader(f)\n",
    "    for line in allStates:\n",
    "        state=line[4]\n",
    "        gender=line[3]\n",
    "        year=(line[2])\n",
    "        name=line[1]\n",
    "        count=(line[5])\n",
    "        if name==selectname:\n",
    "            sumname[year]=sumname.get(year,0)+int(count)\n",
    "    for key,values in sorted(sumname.items(), key=operator.itemgetter(1),reverse=True): #sort by value:\n",
    "        return key\n",
    "    f.close()\n",
    "\n",
    "        \n",
    "Names = list(df.Name)\n",
    "print(Names)\n",
    "startYear=list(df.StartYear)\n",
    "endYear=list(df.EndYear)\n",
    "#Names = ['Woodrow','Calvin','Herbert','Franklin','Dwight','Kennedy','Lyndon','Jimmy']\n",
    "#Names = ['Elvis','Hillary','John','Kennedy']\n",
    "namesdict ={}\n",
    "specificName={}\n",
    "selectedNames =[]\n",
    "\n",
    "for i in range(0,len(Names)):\n",
    "    popyear = ''\n",
    "    popyear = popularity(Names[i])\n",
    "    if popyear is None:\n",
    "        continue\n",
    "    print(\"The Name \" + str(Names[i]) +\" is popular during the year \" + str(popyear))\n",
    "    influenceStart = int(startYear[i])-1\n",
    "    influenceEnd = int(endYear[i])\n",
    "                           \n",
    "    if (int(popyear) >= influenceStart and int(popyear) <= influenceEnd): #If popularity is when the president is in office\n",
    "        selectedNames.append(Names[i])\n",
    "\n",
    "print(\"Names with highest popularity when the current President with same name is in the Office :\") \n",
    "print(selectedNames)\n",
    "\n",
    "f = open(\"../input/StateNames.csv\")\n",
    "allStates = csv.reader(f)\n",
    "\n",
    "for line in allStates:\n",
    "        state=line[4]\n",
    "        gender=line[3]\n",
    "        year=(line[2])\n",
    "        name=line[1]\n",
    "        count=(line[5])\n",
    "        if name in selectedNames:\n",
    "            specificName = namesdict.get(name,{})\n",
    "            specificName[year] = specificName.get(year,0)+int(count)\n",
    "            namesdict[name] = specificName\n",
    "f.close()\n"
   ]
  },
  {
   "cell_type": "code",
   "execution_count": null,
   "metadata": {
    "collapsed": false
   },
   "outputs": [],
   "source": [
    "import matplotlib.pyplot as plt\n",
    "from pylab import rcParams\n",
    "import operator\n",
    "\n",
    "#Charts    \n",
    "rcParams['figure.figsize'] = 17,24\n",
    "#colors = list(\"rgbcmykr\")\n",
    "f, axarr = plt.subplots(len(namesdict.items()), sharex=True)\n",
    "i=0\n",
    "\n",
    "for name, year_dict in namesdict.items():\n",
    "    x=[]\n",
    "    y=[]\n",
    "    for key,values in sorted(year_dict.items(), key=operator.itemgetter(0)): #sort by year:\n",
    "        x.append(key) #year\n",
    "        y.append(values) #counts\n",
    "    axarr[i].plot(x, y,label=name,linewidth=2,color='b')\n",
    "    axarr[i].axvspan(int(df[df.Name == name].StartYear), int(df[df.Name == name].EndYear), alpha=0.5, color='red')\n",
    "    axarr[i].set_title(name)\n",
    "    i=i+1\n",
    "print(\"done\")"
   ]
  },
  {
   "cell_type": "code",
   "execution_count": null,
   "metadata": {
    "collapsed": false
   },
   "outputs": [],
   "source": [
    "# Find out and Plot names with highest popularity after President with same name lost the election :\n",
    "\n",
    "import operator\n",
    "import math\n",
    "import pandas as pd\n",
    "import csv\n",
    "%matplotlib inline\n",
    "\n",
    "def popularity(selectname):\n",
    "    #return the year in which name is most popular\n",
    "    sumname={}\n",
    "    f = open(\"../input/StateNames.csv\")\n",
    "    allStates = csv.reader(f)\n",
    "    for line in allStates:\n",
    "        state=line[4]\n",
    "        gender=line[3]\n",
    "        year=(line[2])\n",
    "        name=line[1]\n",
    "        count=(line[5])\n",
    "        if name==selectname:\n",
    "            sumname[year]=sumname.get(year,0)+int(count)\n",
    "    for key,values in sorted(sumname.items(), key=operator.itemgetter(1),reverse=True): #sort by value:\n",
    "        return key\n",
    "    f.close()\n",
    "\n",
    "        \n",
    "Names = list(df_losing.Name)\n",
    "print(Names)\n",
    "startYear=list(df_losing.StartYear)\n",
    "endYear=list(df_losing.EndYear)\n",
    "namesdict ={}\n",
    "specificName={}\n",
    "selectedNames =[]\n",
    "\n",
    "for i in range(0,len(Names)):\n",
    "    popyear = ''\n",
    "    popyear = popularity(Names[i])\n",
    "    if popyear is None:\n",
    "        continue\n",
    "    #print(\"The Name \" + str(Names[i]) +\" is popular during the year \" + str(popyear))\n",
    "    influenceStart = int(startYear[i])-1\n",
    "    influenceEnd = int(endYear[i])\n",
    "                           \n",
    "    if (int(popyear) >= influenceStart and int(popyear) <= influenceEnd): #If popularity is when the president is in office\n",
    "        selectedNames.append(Names[i])\n",
    "\n",
    "print(\"Names with highest popularity after President with same name lost the election :\") \n",
    "print(selectedNames)\n",
    "\n",
    "f = open(\"../input/StateNames.csv\")\n",
    "allStates = csv.reader(f)\n",
    "\n",
    "for line in allStates:\n",
    "        state=line[4]\n",
    "        gender=line[3]\n",
    "        year=(line[2])\n",
    "        name=line[1]\n",
    "        count=(line[5])\n",
    "        if name in selectedNames:\n",
    "            specificName = namesdict.get(name,{})\n",
    "            specificName[year] = specificName.get(year,0)+int(count)\n",
    "            namesdict[name] = specificName\n",
    "f.close()"
   ]
  },
  {
   "cell_type": "code",
   "execution_count": null,
   "metadata": {
    "collapsed": false
   },
   "outputs": [],
   "source": [
    "import matplotlib.pyplot as plt\n",
    "from pylab import rcParams\n",
    "import operator\n",
    "\n",
    "#Charts    \n",
    "rcParams['figure.figsize'] = 17,24\n",
    "#colors = list(\"rgbcmykr\")\n",
    "f, axarr = plt.subplots(len(namesdict.items()), sharex=True)\n",
    "i=0\n",
    "\n",
    "for name, year_dict in namesdict.items():\n",
    "    x=[]\n",
    "    y=[]\n",
    "    for key,values in sorted(year_dict.items(), key=operator.itemgetter(0)): #sort by year:\n",
    "        x.append(key) #year\n",
    "        y.append(values) #counts\n",
    "    axarr[i].plot(x, y,label=name,linewidth=2,color='b')\n",
    "    axarr[i].axvspan(int(df_losing[df_losing.Name == name].StartYear), int(df_losing[df_losing.Name == name].EndYear), alpha=0.5, color='red')\n",
    "    axarr[i].set_title(name)\n",
    "    i=i+1\n",
    "print(\"done\")"
   ]
  },
  {
   "cell_type": "code",
   "execution_count": null,
   "metadata": {
    "collapsed": false
   },
   "outputs": [],
   "source": [
    "# Plot Hillary\n",
    "\n",
    "import matplotlib.pyplot as plt\n",
    "from pylab import rcParams\n",
    "import collections\n",
    "from collections import defaultdict\n",
    "import operator\n",
    "import csv\n",
    "\n",
    "%matplotlib inline\n",
    "f = open(\"../input/StateNames.csv\")\n",
    "allStates = csv.reader(f)\n",
    "Names = ['Hillary']\n",
    "specificName={}\n",
    "\n",
    "for line in allStates:\n",
    "    state=line[4]\n",
    "    gender=line[3]\n",
    "    year=(line[2])\n",
    "    name=line[1]\n",
    "    count=(line[5])  \n",
    "    if (name in Names):\n",
    "        specificName[year] = specificName.get(year,0)+int(count)\n",
    "    \n",
    "\n",
    "#Charts\n",
    "specificName = collections.OrderedDict(sorted(specificName.items()))\n",
    "\n",
    "rcParams['figure.figsize'] = 18,8\n",
    "plt.bar(range(len(specificName)), specificName.values())\n",
    "plt.xticks(range(len(specificName)), specificName.keys())\n",
    "plt.xticks(rotation=90)\n",
    "plt.title('Popularity of Name Hillary')\n",
    "plt.show()"
   ]
  },
  {
   "cell_type": "code",
   "execution_count": null,
   "metadata": {
    "collapsed": false
   },
   "outputs": [],
   "source": [
    "# Plot Elvis\n",
    "\n",
    "import matplotlib.pyplot as plt\n",
    "from pylab import rcParams\n",
    "import collections\n",
    "from collections import defaultdict\n",
    "import operator\n",
    "import csv\n",
    "\n",
    "%matplotlib inline\n",
    "f = open(\"../input/StateNames.csv\")\n",
    "allStates = csv.reader(f)\n",
    "Names = ['Elvis']\n",
    "specificName={}\n",
    "\n",
    "for line in allStates:\n",
    "    state=line[4]\n",
    "    gender=line[3]\n",
    "    year=(line[2])\n",
    "    name=line[1]\n",
    "    count=(line[5])  \n",
    "    if (name in Names):\n",
    "        specificName[year] = specificName.get(year,0)+int(count)\n",
    "    \n",
    "\n",
    "#Charts\n",
    "specificName = collections.OrderedDict(sorted(specificName.items()))\n",
    "\n",
    "rcParams['figure.figsize'] = 18,8\n",
    "plt.bar(range(len(specificName)), specificName.values())\n",
    "plt.xticks(range(len(specificName)), specificName.keys())\n",
    "plt.xticks(rotation=90)\n",
    "plt.title('Popularity of Name Elvis')\n",
    "plt.show()"
   ]
  }
 ],
 "metadata": {
  "kernelspec": {
   "display_name": "Python 3",
   "language": "python",
   "name": "python3"
  },
  "language_info": {
   "codemirror_mode": {
    "name": "ipython",
    "version": 3
   },
   "file_extension": ".py",
   "mimetype": "text/x-python",
   "name": "python",
   "nbconvert_exporter": "python",
   "pygments_lexer": "ipython3",
   "version": "3.4.3"
  }
 },
 "nbformat": 4,
 "nbformat_minor": 0
}
